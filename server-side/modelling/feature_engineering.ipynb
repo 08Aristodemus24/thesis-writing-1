{
 "cells": [
  {
   "cell_type": "code",
   "execution_count": 59,
   "metadata": {
    "colab": {
     "base_uri": "https://localhost:8080/"
    },
    "executionInfo": {
     "elapsed": 2578,
     "status": "ok",
     "timestamp": 1722585876712,
     "user": {
      "displayName": "Mikhail Cueva",
      "userId": "11170871238940341024"
     },
     "user_tz": -480
    },
    "id": "jApAH2b8f-22",
    "outputId": "f9757b95-eaae-4a19-f868-ffdb9e063902"
   },
   "outputs": [],
   "source": [
    "# from google.colab import drive\n",
    "# drive.mount('/content/drive')"
   ]
  },
  {
   "cell_type": "code",
   "execution_count": 60,
   "metadata": {
    "colab": {
     "base_uri": "https://localhost:8080/"
    },
    "executionInfo": {
     "elapsed": 4,
     "status": "ok",
     "timestamp": 1722585876713,
     "user": {
      "displayName": "Mikhail Cueva",
      "userId": "11170871238940341024"
     },
     "user_tz": -480
    },
    "id": "FCFn8WusgAFf",
    "outputId": "08dfc1f4-571f-450c-ec1b-06c1818585d6"
   },
   "outputs": [],
   "source": [
    "# # navigate to root directory of current file in order to access other files relatively\n",
    "# %cd /content/drive/MyDrive/Colab\\ Notebooks/thesis-writing-1/eda-signal-classifier"
   ]
  },
  {
   "cell_type": "code",
   "execution_count": 61,
   "metadata": {
    "colab": {
     "base_uri": "https://localhost:8080/"
    },
    "executionInfo": {
     "elapsed": 2292,
     "status": "ok",
     "timestamp": 1722585879002,
     "user": {
      "displayName": "Mikhail Cueva",
      "userId": "11170871238940341024"
     },
     "user_tz": -480
    },
    "id": "dFCuHMTkgAfo",
    "outputId": "c2e5905a-9ab6-4570-e9c4-e747ebc5d5c5"
   },
   "outputs": [],
   "source": [
    "# !pip install PyWavelets"
   ]
  },
  {
   "cell_type": "code",
   "execution_count": 62,
   "metadata": {
    "executionInfo": {
     "elapsed": 9188,
     "status": "ok",
     "timestamp": 1722585888188,
     "user": {
      "displayName": "Mikhail Cueva",
      "userId": "11170871238940341024"
     },
     "user_tz": -480
    },
    "id": "xamxPIA0fRdO"
   },
   "outputs": [
    {
     "name": "stdout",
     "output_type": "stream",
     "text": [
      "The autoreload extension is already loaded. To reload it, use:\n",
      "  %reload_ext autoreload\n"
     ]
    }
   ],
   "source": [
    "import datetime\n",
    "import math\n",
    "import os\n",
    "import numpy as np\n",
    "import pandas as pd\n",
    "import matplotlib.pyplot as plt\n",
    "import zipfile\n",
    "import requests\n",
    "import re\n",
    "import tensorflow as tf\n",
    "\n",
    "from concurrent.futures import ThreadPoolExecutor\n",
    "from sklearn.metrics import accuracy_score, precision_score, recall_score, f1_score, roc_auc_score, confusion_matrix\n",
    "\n",
    "# import and load model architectures as well as decoder\n",
    "from models.cueva import LSTM_FE\n",
    "from models.llanes_jurado import LSTM_CNN\n",
    "from utilities.preprocessors import correct_signals\n",
    "from utilities.loaders import load_meta_data, concur_load_data, charge_raw_data, _combine_data\n",
    "\n",
    "from utilities.visualizers import (\n",
    "    view_time_frame,\n",
    "    view_wavelet_coeffs,\n",
    "    analyze,\n",
    "    data_split_metric_values,\n",
    "    view_value_frequency,\n",
    "    multi_class_heatmap,\n",
    "    view_metric_values,\n",
    "    view_classified_labels,\n",
    "    view_label_freq,\n",
    "    disp_cat_feat,\n",
    "    plot_all_features,\n",
    "    describe_col,\n",
    "    ModelResults,\n",
    "    view_all_splits_results)\n",
    "\n",
    "from utilities.feature_extractors import (\n",
    "    concur_extract_features_from_all,\n",
    "    extract_features,\n",
    "    extract_features_hybrid,\n",
    "    extract_features_per_hour)\n",
    "\n",
    "%load_ext autoreload\n",
    "%autoreload 2"
   ]
  },
  {
   "cell_type": "markdown",
   "metadata": {
    "id": "sCKSmUssfRdP"
   },
   "source": [
    "# Downloading dataset\n",
    "\n",
    "If your project requires downloading a larger file, then you may run into issues using the steps above when you try to load the entire file into memory. To overcome those issues, you can download large files in a streaming fashion to avoid reading the content of large responses all at once"
   ]
  },
  {
   "cell_type": "code",
   "execution_count": 63,
   "metadata": {
    "executionInfo": {
     "elapsed": 563,
     "status": "ok",
     "timestamp": 1722585888748,
     "user": {
      "displayName": "Mikhail Cueva",
      "userId": "11170871238940341024"
     },
     "user_tz": -480
    },
    "id": "389MyfLAfRdQ"
   },
   "outputs": [],
   "source": [
    "# download_dataset(\"https://prod-dcd-datasets-cache-zipfiles.s3.eu-west-1.amazonaws.com/w8fxrg4pv5-2.zip\")"
   ]
  },
  {
   "cell_type": "markdown",
   "metadata": {
    "id": "cbnMS7eLfRdR"
   },
   "source": [
    "# Loading dataset"
   ]
  },
  {
   "cell_type": "code",
   "execution_count": 64,
   "metadata": {
    "executionInfo": {
     "elapsed": 546,
     "status": "ok",
     "timestamp": 1722585889293,
     "user": {
      "displayName": "Mikhail Cueva",
      "userId": "11170871238940341024"
     },
     "user_tz": -480
    },
    "id": "b-4_e0rLfRdR"
   },
   "outputs": [],
   "source": [
    "# # Extract data from zip file\n",
    "# with zipfile.ZipFile('./data/Electrodermal Activity artifact correction BEnchmark (EDABE)/EDABE dataset.zip', 'r') as zip_ref:\n",
    "#     zip_ref.extractall('./data/Electrodermal Activity artifact correction BEnchmark (EDABE)')"
   ]
  },
  {
   "cell_type": "code",
   "execution_count": 65,
   "metadata": {
    "executionInfo": {
     "elapsed": 3,
     "status": "ok",
     "timestamp": 1722585889293,
     "user": {
      "displayName": "Mikhail Cueva",
      "userId": "11170871238940341024"
     },
     "user_tz": -480
    },
    "id": "Msj09rqJfRdR"
   },
   "outputs": [],
   "source": [
    "# ahixac_eda_df_128hz = pd.read_csv('./data/Electrodermal Activity artifact correction BEnchmark (EDABE)/Train/ahixac_expert1.csv', sep=';')\n",
    "# ahixac_eda_df_128hz"
   ]
  },
  {
   "cell_type": "code",
   "execution_count": 66,
   "metadata": {
    "executionInfo": {
     "elapsed": 3,
     "status": "ok",
     "timestamp": 1722585889293,
     "user": {
      "displayName": "Mikhail Cueva",
      "userId": "11170871238940341024"
     },
     "user_tz": -480
    },
    "id": "ecqS1lB9fRdR"
   },
   "outputs": [],
   "source": [
    "# ahixac_eda_df_128hz.columns = ['time', 'raw_signal', 'clean_signal', 'label', 'auto_signal', 'pred_art', 'post_proc_pred_art']"
   ]
  },
  {
   "cell_type": "code",
   "execution_count": 67,
   "metadata": {
    "executionInfo": {
     "elapsed": 2,
     "status": "ok",
     "timestamp": 1722585889293,
     "user": {
      "displayName": "Mikhail Cueva",
      "userId": "11170871238940341024"
     },
     "user_tz": -480
    },
    "id": "aFfZfFzffRdR"
   },
   "outputs": [],
   "source": [
    "# start_time = ahixac_eda_df_128hz.iloc[0]['time']\n",
    "# start_time"
   ]
  },
  {
   "cell_type": "code",
   "execution_count": 68,
   "metadata": {
    "executionInfo": {
     "elapsed": 2,
     "status": "ok",
     "timestamp": 1722585889293,
     "user": {
      "displayName": "Mikhail Cueva",
      "userId": "11170871238940341024"
     },
     "user_tz": -480
    },
    "id": "DPcY3XWyfRdR"
   },
   "outputs": [],
   "source": [
    "# ahixac_eda_df_128hz.set_index(pd.date_range(start=start_time, periods=ahixac_eda_df_128hz.shape[0], freq=get_time_frequency(128)), inplace=True)\n",
    "# ahixac_eda_df_128hz"
   ]
  },
  {
   "cell_type": "markdown",
   "metadata": {
    "id": "ykUcKH-ofRdR"
   },
   "source": [
    "# Downsampling 128hz signals to 16hz"
   ]
  },
  {
   "cell_type": "code",
   "execution_count": 69,
   "metadata": {
    "executionInfo": {
     "elapsed": 508,
     "status": "ok",
     "timestamp": 1722585889799,
     "user": {
      "displayName": "Mikhail Cueva",
      "userId": "11170871238940341024"
     },
     "user_tz": -480
    },
    "id": "l8p74qMmfRdS"
   },
   "outputs": [],
   "source": [
    "# ahixac_eda_df_16hz = interpolate_signals(ahixac_eda_df_128hz, sample_rate=128, start_time=start_time, target_hz=16)\n",
    "# ahixac_eda_df_16hz"
   ]
  },
  {
   "cell_type": "markdown",
   "metadata": {
    "id": "qWWCwhXpfRdS"
   },
   "source": [
    "# Low-pass filtering raw 128hz and 16hz signals"
   ]
  },
  {
   "cell_type": "code",
   "execution_count": 70,
   "metadata": {
    "executionInfo": {
     "elapsed": 3,
     "status": "ok",
     "timestamp": 1722585889800,
     "user": {
      "displayName": "Mikhail Cueva",
      "userId": "11170871238940341024"
     },
     "user_tz": -480
    },
    "id": "UzAs854nfRdS"
   },
   "outputs": [],
   "source": [
    "# ahixac_eda_df_128hz['filtered_signal'] = butter_lowpass_filter(ahixac_eda_df_128hz['raw_signal'], cutoff=1.0, samp_freq=128, order=6)\n",
    "# ahixac_eda_df_16hz['filtered_signal'] = butter_lowpass_filter(ahixac_eda_df_16hz['raw_signal'], cutoff=1.0, samp_freq=16, order=6)"
   ]
  },
  {
   "cell_type": "code",
   "execution_count": 71,
   "metadata": {
    "executionInfo": {
     "elapsed": 2,
     "status": "ok",
     "timestamp": 1722585889800,
     "user": {
      "displayName": "Mikhail Cueva",
      "userId": "11170871238940341024"
     },
     "user_tz": -480
    },
    "id": "SNLV-xTEfRdS"
   },
   "outputs": [],
   "source": [
    "# ahixac_eda_df_128hz"
   ]
  },
  {
   "cell_type": "code",
   "execution_count": 72,
   "metadata": {
    "executionInfo": {
     "elapsed": 2,
     "status": "ok",
     "timestamp": 1722585889800,
     "user": {
      "displayName": "Mikhail Cueva",
      "userId": "11170871238940341024"
     },
     "user_tz": -480
    },
    "id": "2CAzLL-bfRdS"
   },
   "outputs": [],
   "source": [
    "# ahixac_eda_df_128hz.iloc[63]"
   ]
  },
  {
   "cell_type": "code",
   "execution_count": 73,
   "metadata": {
    "executionInfo": {
     "elapsed": 2,
     "status": "ok",
     "timestamp": 1722585889800,
     "user": {
      "displayName": "Mikhail Cueva",
      "userId": "11170871238940341024"
     },
     "user_tz": -480
    },
    "id": "SrxzGu8GfRdS"
   },
   "outputs": [],
   "source": [
    "# timestamp_list = ahixac_eda_df_128hz.index.tolist()[::64]\n",
    "# timestamp_list"
   ]
  },
  {
   "cell_type": "code",
   "execution_count": 74,
   "metadata": {
    "executionInfo": {
     "elapsed": 2,
     "status": "ok",
     "timestamp": 1722585889800,
     "user": {
      "displayName": "Mikhail Cueva",
      "userId": "11170871238940341024"
     },
     "user_tz": -480
    },
    "id": "r39xXLS4fRdS"
   },
   "outputs": [],
   "source": [
    "# timestamp_list[-1].timestamp()"
   ]
  },
  {
   "cell_type": "code",
   "execution_count": 75,
   "metadata": {
    "executionInfo": {
     "elapsed": 523,
     "status": "ok",
     "timestamp": 1722585890321,
     "user": {
      "displayName": "Mikhail Cueva",
      "userId": "11170871238940341024"
     },
     "user_tz": -480
    },
    "id": "nUjj_wE1fRdT"
   },
   "outputs": [],
   "source": [
    "# ahixac_eda_df_16hz"
   ]
  },
  {
   "cell_type": "code",
   "execution_count": 76,
   "metadata": {
    "executionInfo": {
     "elapsed": 2,
     "status": "ok",
     "timestamp": 1722585890321,
     "user": {
      "displayName": "Mikhail Cueva",
      "userId": "11170871238940341024"
     },
     "user_tz": -480
    },
    "id": "cJfEwX11fRdT"
   },
   "outputs": [],
   "source": [
    "# ahixac_eda_df_16hz[:8]"
   ]
  },
  {
   "cell_type": "code",
   "execution_count": 77,
   "metadata": {
    "executionInfo": {
     "elapsed": 2,
     "status": "ok",
     "timestamp": 1722585890321,
     "user": {
      "displayName": "Mikhail Cueva",
      "userId": "11170871238940341024"
     },
     "user_tz": -480
    },
    "id": "1N5r_p5efRdT"
   },
   "outputs": [],
   "source": [
    "# view_time_frame(ahixac_eda_df_128hz, samp_freq=128, cols_to_use=['raw_signal', 'filtered_signal'], img_title='subject ahixac 128hz time frame')\n",
    "# view_time_frame(ahixac_eda_df_16hz, samp_freq=16, cols_to_use=['raw_signal', 'filtered_signal'], img_title='subject ahixac 16hz time frame')"
   ]
  },
  {
   "cell_type": "markdown",
   "metadata": {
    "id": "mnWYYF7bfRdU"
   },
   "source": [
    "# Iterate through signals per hour"
   ]
  },
  {
   "cell_type": "code",
   "execution_count": 78,
   "metadata": {
    "executionInfo": {
     "elapsed": 2,
     "status": "ok",
     "timestamp": 1722585890321,
     "user": {
      "displayName": "Mikhail Cueva",
      "userId": "11170871238940341024"
     },
     "user_tz": -480
    },
    "id": "8QXvgi4cfRdU"
   },
   "outputs": [],
   "source": [
    "# data_128hz = extract_features_per_hour(ahixac_eda_df_128hz, hertz=128, window_size=0.5, verbose=True)\n",
    "# data_128hz"
   ]
  },
  {
   "cell_type": "code",
   "execution_count": 79,
   "metadata": {
    "executionInfo": {
     "elapsed": 2,
     "status": "ok",
     "timestamp": 1722585890321,
     "user": {
      "displayName": "Mikhail Cueva",
      "userId": "11170871238940341024"
     },
     "user_tz": -480
    },
    "id": "qMr5jjnUfRdU"
   },
   "outputs": [],
   "source": [
    "# data_16hz = extract_features_per_hour(ahixac_eda_df_16hz, hertz=16, window_size=0.5, verbose=True)\n",
    "# data_16hz"
   ]
  },
  {
   "cell_type": "markdown",
   "metadata": {
    "id": "Cos7BKWafRdU"
   },
   "source": [
    "#### if we had a 128hz dataset with derived timestamps that increase every 0.5s such as this [0.0, 0.5, 1.0, 1.5, ..., 6506.0] then our segments would be:\n",
    "```\n",
    "[0.0, 0.5)\n",
    "[0.5, 1.0)\n",
    "[1.0, 1.5)\n",
    "...\n",
    "[6504.5, 6506.0)\n",
    "```\n",
    "\n",
    "#### 832830 / 64 is 13012.96875 or when \"`math.ceil()`ed\" is 13013"
   ]
  },
  {
   "cell_type": "code",
   "execution_count": 80,
   "metadata": {
    "executionInfo": {
     "elapsed": 1,
     "status": "ok",
     "timestamp": 1722585890321,
     "user": {
      "displayName": "Mikhail Cueva",
      "userId": "11170871238940341024"
     },
     "user_tz": -480
    },
    "id": "w5ZX204mfRdU"
   },
   "outputs": [],
   "source": [
    "# math.ceil(13012.96875), math.floor(13012.96875)"
   ]
  },
  {
   "cell_type": "code",
   "execution_count": 81,
   "metadata": {
    "executionInfo": {
     "elapsed": 386,
     "status": "ok",
     "timestamp": 1722585890706,
     "user": {
      "displayName": "Mikhail Cueva",
      "userId": "11170871238940341024"
     },
     "user_tz": -480
    },
    "id": "P_9EsxbsfRdU"
   },
   "outputs": [],
   "source": [
    "# for feature_segments, labels in data_128hz:\n",
    "#     print(labels.value_counts())"
   ]
  },
  {
   "cell_type": "markdown",
   "metadata": {
    "id": "fxefRwVRfRdU"
   },
   "source": [
    "#### here in the first hour of our data the number of artifacts out of all 7200 0.5s segments is 716 or roughly 9.9% of our data, and the number of non-artifacts out of all 7200 0.5s segments is 6484 or roughly 90% of our data\n",
    "\n",
    "#### For the second hour of our data the number of artifacts out of all 5813 0.5s segments is 208 or roughly 3.58% of our data, and the number of non-artifacts out of all 5813 0.5s segments is 5605 or roughly 96.42% of our data"
   ]
  },
  {
   "cell_type": "code",
   "execution_count": 82,
   "metadata": {
    "executionInfo": {
     "elapsed": 2,
     "status": "ok",
     "timestamp": 1722585890706,
     "user": {
      "displayName": "Mikhail Cueva",
      "userId": "11170871238940341024"
     },
     "user_tz": -480
    },
    "id": "Zy6i8JcefRdU"
   },
   "outputs": [],
   "source": [
    "# for feature_segments, labels in data_16hz:\n",
    "#     print(labels.value_counts())"
   ]
  },
  {
   "cell_type": "markdown",
   "metadata": {
    "id": "v8J7B63RfRdU"
   },
   "source": [
    "#### Here the reason why we have almost the same number of artifact and non-artifact labels to the 128hz data is because we interpolated our 128hz data to 16hz thus losing some of our labels"
   ]
  },
  {
   "cell_type": "code",
   "execution_count": 83,
   "metadata": {
    "executionInfo": {
     "elapsed": 1,
     "status": "ok",
     "timestamp": 1722585890706,
     "user": {
      "displayName": "Mikhail Cueva",
      "userId": "11170871238940341024"
     },
     "user_tz": -480
    },
    "id": "2RJw6y8YfRdU"
   },
   "outputs": [],
   "source": [
    "# ahixac_eda_data = rejoin_data(data_128hz, data_16hz)\n",
    "# ahixac_eda_data"
   ]
  },
  {
   "cell_type": "markdown",
   "metadata": {
    "id": "2N9tOSK5fRdU"
   },
   "source": [
    "#### concatenating calculated features from 128hz and 16hz data of the first hour"
   ]
  },
  {
   "cell_type": "code",
   "execution_count": 84,
   "metadata": {
    "executionInfo": {
     "elapsed": 1,
     "status": "ok",
     "timestamp": 1722585890706,
     "user": {
      "displayName": "Mikhail Cueva",
      "userId": "11170871238940341024"
     },
     "user_tz": -480
    },
    "id": "eUFLErSjfRdU"
   },
   "outputs": [],
   "source": [
    "# ahixac_eda_data[0].columns"
   ]
  },
  {
   "cell_type": "markdown",
   "metadata": {
    "id": "sUN8bzjHfRdV"
   },
   "source": [
    "# Now we ought to do these for all subjects"
   ]
  },
  {
   "cell_type": "markdown",
   "metadata": {
    "id": "IpMSz00qfRdV"
   },
   "source": [
    "# scanning train folder"
   ]
  },
  {
   "cell_type": "code",
   "execution_count": 85,
   "metadata": {
    "colab": {
     "base_uri": "https://localhost:8080/"
    },
    "executionInfo": {
     "elapsed": 14836,
     "status": "ok",
     "timestamp": 1722585905541,
     "user": {
      "displayName": "Mikhail Cueva",
      "userId": "11170871238940341024"
     },
     "user_tz": -480
    },
    "id": "qcOwqv3ZfRdV",
    "outputId": "f2d7d269-a1c2-433e-a03d-7eff546796e5"
   },
   "outputs": [
    {
     "data": {
      "text/plain": [
       "['ahixac_expert1.csv',\n",
       " 'akakip_expert2.csv',\n",
       " 'aqamom_expert2.csv',\n",
       " 'aretez_expert1.csv',\n",
       " 'asifex_expert2.csv',\n",
       " 'axeyoh_expert2.csv',\n",
       " 'efawep_expert2.csv',\n",
       " 'egemow_expert2.csv',\n",
       " 'ejofeq_expert2.csv',\n",
       " 'erecij_expert1.csv',\n",
       " 'esirur_expert1.csv',\n",
       " 'ewehov_expert2.csv',\n",
       " 'exozef_expert2.csv',\n",
       " 'idagah_expert2.csv',\n",
       " 'ihikay_expert1.csv',\n",
       " 'ihinot_expert1.csv',\n",
       " 'imocac_expert2.csv',\n",
       " 'iqiyat_expert2.csv',\n",
       " 'obujoh_expert2.csv',\n",
       " 'ohayeh_expert1.csv',\n",
       " 'ohufow_expert1.csv',\n",
       " 'ojotew_expert1.csv',\n",
       " 'onivuk_expert1.csv',\n",
       " 'opunad_expert1.csv',\n",
       " 'otecab_expert2.csv',\n",
       " 'otuqom_expert1.csv',\n",
       " 'owegud_expert2.csv',\n",
       " 'oxisux_expert1.csv',\n",
       " 'tchgij_expert2.csv',\n",
       " 'ufoyek_expert2.csv',\n",
       " 'uqozew_expert1.csv',\n",
       " 'urogif_expert1.csv',\n",
       " 'uzefow_expert1.csv']"
      ]
     },
     "execution_count": 85,
     "metadata": {},
     "output_type": "execute_result"
    }
   ],
   "source": [
    "train_files = os.listdir('./data/Electrodermal Activity artifact correction BEnchmark (EDABE)/Train/')\n",
    "train_files"
   ]
  },
  {
   "cell_type": "markdown",
   "metadata": {
    "id": "NFuJL1d2fRdW"
   },
   "source": [
    "# Concurrently read each .csv file and use functions that will spit out the features"
   ]
  },
  {
   "cell_type": "code",
   "execution_count": 86,
   "metadata": {
    "colab": {
     "base_uri": "https://localhost:8080/"
    },
    "id": "me9jt0sifRdW",
    "outputId": "4b25f068-5881-4856-d136-6effc81304ba"
   },
   "outputs": [],
   "source": [
    "# train_eda_data = concur_extract_features_from_all('./data/Electrodermal Activity artifact correction BEnchmark (EDABE)/Train/', train_files, arch=\"ml\")\n",
    "# train_eda_data"
   ]
  },
  {
   "cell_type": "markdown",
   "metadata": {
    "id": "O1i2UojpfRdW"
   },
   "source": [
    "#### Above code takes about 204 minutes or 3 hrs and 20 minutes to run"
   ]
  },
  {
   "cell_type": "code",
   "execution_count": 87,
   "metadata": {
    "id": "WbbxqWO9fRdW"
   },
   "outputs": [],
   "source": [
    "# # save each feature dataframe as a .csv file in the folder created earlier with the same names\n",
    "# for subject_name, (feature_segments, labels) in train_eda_data:\n",
    "#     feature_segments.to_csv(f'./data/Artifact Detection Data/train/{subject_name}_features.csv')\n",
    "#     labels.to_csv(f'./data/Artifact Detection Data/train/{subject_name}_labels.csv')"
   ]
  },
  {
   "cell_type": "code",
   "execution_count": 88,
   "metadata": {
    "id": "szb1u3CEfRdW"
   },
   "outputs": [
    {
     "data": {
      "text/plain": [
       "['afegip_expert1.csv',\n",
       " 'ajeric_expert2.csv',\n",
       " 'ekamis_expert2.csv',\n",
       " 'iguted_expert1.csv',\n",
       " 'inefoh_expert1.csv',\n",
       " 'otafeh_expert1.csv',\n",
       " 'oxused_expert2.csv',\n",
       " 'pqbqpr_expert2.csv',\n",
       " 'uhepah_expert1.csv',\n",
       " 'ukudab_expert2.csv']"
      ]
     },
     "execution_count": 88,
     "metadata": {},
     "output_type": "execute_result"
    }
   ],
   "source": [
    "test_files = os.listdir('./data/Electrodermal Activity artifact correction BEnchmark (EDABE)/Test/')\n",
    "test_files"
   ]
  },
  {
   "cell_type": "code",
   "execution_count": 89,
   "metadata": {
    "id": "nHAFDfcefRdX"
   },
   "outputs": [],
   "source": [
    "# test_eda_data = concur_extract_features_from_all('./data/Electrodermal Activity artifact correction BEnchmark (EDABE)/Test/', test_files, arch=\"ml\")\n",
    "# test_eda_data"
   ]
  },
  {
   "cell_type": "code",
   "execution_count": 90,
   "metadata": {
    "id": "2PakxYCGfRdX"
   },
   "outputs": [],
   "source": [
    "# # save each feature dataframe as a .csv file in the folder created earlier with the same names\n",
    "# for subject_name, (feature_segments, labels)  in test_eda_data:\n",
    "#     feature_segments.to_csv(f'./data/Artifact Detection Data/test/{subject_name}_features.csv')\n",
    "#     labels.to_csv(f'./data/Artifact Detection Data/test/{subject_name}_labels.csv')"
   ]
  },
  {
   "cell_type": "markdown",
   "metadata": {},
   "source": [
    "# This section attempts outlier datapoint removal i.e. rows with purely zeros from newly generated features resulting from above lines "
   ]
  },
  {
   "cell_type": "code",
   "execution_count": 91,
   "metadata": {},
   "outputs": [],
   "source": [
    "# ahixac_features = pd.read_csv(f'./data/Artifact Detection Data/train/ahixac_expert1_features.csv', index_col=0)\n",
    "# ahixac_features"
   ]
  },
  {
   "cell_type": "markdown",
   "metadata": {},
   "source": [
    "#### recall axis 1 is the x axis and axis 0 is the y axis"
   ]
  },
  {
   "cell_type": "code",
   "execution_count": 92,
   "metadata": {},
   "outputs": [],
   "source": [
    "# non_zero_rows = (ahixac_features != 0).any(axis=1)\n",
    "# non_zero_rows"
   ]
  },
  {
   "cell_type": "code",
   "execution_count": 93,
   "metadata": {},
   "outputs": [],
   "source": [
    "# ahixac_features.index[~non_zero_rows]"
   ]
  },
  {
   "cell_type": "code",
   "execution_count": 94,
   "metadata": {},
   "outputs": [],
   "source": [
    "# ahixac_features[non_zero_rows]"
   ]
  },
  {
   "cell_type": "code",
   "execution_count": 95,
   "metadata": {},
   "outputs": [],
   "source": [
    "# non_zero_rows_alt = ~(ahixac_features == 0).all(axis=1)\n",
    "# non_zero_rows_alt"
   ]
  },
  {
   "cell_type": "code",
   "execution_count": 96,
   "metadata": {},
   "outputs": [],
   "source": [
    "# import re\n",
    "\n",
    "# # what I want is to individually open all the feature segment files as well as their corresponding label files\n",
    "# for train_subject_name in train_files:\n",
    "#     train_subject_name = re.sub(r\".csv\", \"\", train_subject_name)\n",
    "#     subject_features = pd.read_csv(f'./data/Artifact Detection Data/train/{train_subject_name}_features.csv', index_col=0)\n",
    "#     subject_labels = pd.read_csv(f'./data/Artifact Detection Data/train/{train_subject_name}_labels.csv', index_col=0)\n",
    "\n",
    "#     # allow modifications to the dataframe here i.e.\n",
    "#     # removing rows with purely 0.0 values for every feature/column\n",
    "#     # as these outliers can negatively impact the training of the \n",
    "#     # ml model\n",
    "#     non_zero_rows = (subject_features != 0).any(axis=1)\n",
    "\n",
    "#     # keep only the rows that are non zero rows\n",
    "#     # this goes also for rows in the subjects labels\n",
    "#     subject_features[non_zero_rows].to_csv(f'./data/Artifact Detection Data/train/{train_subject_name}_features.csv')\n",
    "#     subject_labels[non_zero_rows].to_csv(f'./data/Artifact Detection Data/train/{train_subject_name}_labels.csv')"
   ]
  },
  {
   "cell_type": "markdown",
   "metadata": {},
   "source": [
    "# This section attempts to use lstm feature extractor model to convert eda signals to lstm features that a scikit learn svm can use as input. This will implement high level feature engineering for the hybrid lstm-svm model"
   ]
  },
  {
   "cell_type": "code",
   "execution_count": 97,
   "metadata": {},
   "outputs": [
    {
     "name": "stdout",
     "output_type": "stream",
     "text": [
      "length of x_signals: 672486\n",
      "window size: 640\n",
      "length of x_signals: 749774\n",
      "window size: 640\n",
      "length of x_signals: 708696\n",
      "window size: 640\n",
      "length of x_signals: 786318\n",
      "window size: 640\n",
      "length of x_signals: 751975\n",
      "window size: 640\n",
      "length of x_signals: 819275\n",
      "window size: 640\n",
      "length of x_signals: 750519\n",
      "window size: 640\n",
      "length of x_signals: 732054\n",
      "window size: 640\n",
      "length of x_signals: 755310\n",
      "window size: 640\n",
      "length of x_signals: 747558\n",
      "window size: 640\n",
      "length of x_signals: 755310\n",
      "window size: 640\n",
      "length of x_signals: 782183\n",
      "window size: 640\n",
      "length of x_signals: 832830\n",
      "window size: 640\n",
      "length of x_signals: 794070\n",
      "window size: 640\n",
      "length of x_signals: 871590\n",
      "window size: 640\n",
      "length of x_signals: 925752\n",
      "window size: 640\n",
      "number of rows created: 10498\n",
      "number of rows created: 11064\n",
      "number of rows created: 11429\n",
      "number of rows created: 11671\n",
      "number of rows created: 11706\n",
      "number of rows created: 11792\n",
      "number of rows created: 11717\n",
      "number of rows created: 11792\n",
      "number of rows created: 11740\n",
      "number of rows created: 12212\n",
      "number of rows created: 12277\n",
      "number of rows created: 12398\n",
      "number of rows created: 12792\n",
      "number of rows created: 13003\n",
      "number of rows created: 13609\n",
      "number of rows created: 14455\n",
      "length of x_signals: 817326\n",
      "window size: 640\n",
      "length of x_signals: 786318\n",
      "window size: 640\n",
      "length of x_signals: 685440\n",
      "window size: 640\n",
      "length of x_signals: 756471\n",
      "window size: 640\n",
      "length of x_signals: 770814\n",
      "window size: 640\n",
      "length of x_signals: 758414\n",
      "window size: 640\n",
      "length of x_signals: 794070\n",
      "window size: 640\n",
      "length of x_signals: 809574\n",
      "window size: 640\n",
      "length of x_signals: 902598\n",
      "window size: 640\n",
      "length of x_signals: 809574\n",
      "window size: 640\n",
      "length of x_signals: 825078\n",
      "window size: 640\n",
      "length of x_signals: 778464\n",
      "window size: 640\n",
      "length of x_signals: 755310\n",
      "window size: 640\n",
      "length of x_signals: 801822\n",
      "window size: 640\n",
      "length of x_signals: 725628\n",
      "window size: 640\n",
      "length of x_signals: 833932\n",
      "window size: 640\n",
      "number of rows created: 10700\n",
      "number of rows created: 11810\n",
      "number of rows created: 12034\n",
      "number of rows created: 11841\n",
      "number of rows created: 12277\n",
      "number of rows created: 12154\n",
      "number of rows created: 12398\n",
      "number of rows created: 12640\n",
      "number of rows created: 11792\n",
      "number of rows created: 12882\n",
      "number of rows created: 12640\n",
      "number of rows created: 12761\n",
      "number of rows created: 11328\n",
      "number of rows created: 12519\n",
      "number of rows created: 14094\n",
      "number of rows created: 13021\n",
      "length of x_signals: 884967\n",
      "window size: 640\n",
      "number of rows created: 13818\n",
      "subjects signals, labels, names and subject to id lookup loaded\n"
     ]
    }
   ],
   "source": [
    "train_subjects_signals, train_subjects_labels, train_subjects_names, train_subject_to_id = concur_load_data(feat_config=\"cueva\",)"
   ]
  },
  {
   "cell_type": "code",
   "execution_count": 98,
   "metadata": {},
   "outputs": [
    {
     "data": {
      "text/plain": [
       "33"
      ]
     },
     "execution_count": 98,
     "metadata": {},
     "output_type": "execute_result"
    }
   ],
   "source": [
    "len(train_subjects_signals)"
   ]
  },
  {
   "cell_type": "code",
   "execution_count": 99,
   "metadata": {},
   "outputs": [
    {
     "data": {
      "text/plain": [
       "[array([[0],\n",
       "        [0],\n",
       "        [0],\n",
       "        ...,\n",
       "        [1],\n",
       "        [1],\n",
       "        [0]]),\n",
       " array([[0],\n",
       "        [0],\n",
       "        [0],\n",
       "        ...,\n",
       "        [0],\n",
       "        [0],\n",
       "        [0]]),\n",
       " array([[0],\n",
       "        [0],\n",
       "        [0],\n",
       "        ...,\n",
       "        [0],\n",
       "        [0],\n",
       "        [0]]),\n",
       " array([[0],\n",
       "        [0],\n",
       "        [0],\n",
       "        ...,\n",
       "        [0],\n",
       "        [0],\n",
       "        [0]]),\n",
       " array([[0],\n",
       "        [0],\n",
       "        [0],\n",
       "        ...,\n",
       "        [0],\n",
       "        [0],\n",
       "        [0]]),\n",
       " array([[0],\n",
       "        [0],\n",
       "        [0],\n",
       "        ...,\n",
       "        [0],\n",
       "        [0],\n",
       "        [0]]),\n",
       " array([[0],\n",
       "        [0],\n",
       "        [0],\n",
       "        ...,\n",
       "        [1],\n",
       "        [1],\n",
       "        [1]]),\n",
       " array([[0],\n",
       "        [0],\n",
       "        [0],\n",
       "        ...,\n",
       "        [0],\n",
       "        [0],\n",
       "        [0]]),\n",
       " array([[0],\n",
       "        [0],\n",
       "        [0],\n",
       "        ...,\n",
       "        [0],\n",
       "        [0],\n",
       "        [0]]),\n",
       " array([[0],\n",
       "        [0],\n",
       "        [0],\n",
       "        ...,\n",
       "        [0],\n",
       "        [0],\n",
       "        [0]]),\n",
       " array([[0],\n",
       "        [0],\n",
       "        [0],\n",
       "        ...,\n",
       "        [0],\n",
       "        [0],\n",
       "        [0]]),\n",
       " array([[0],\n",
       "        [0],\n",
       "        [0],\n",
       "        ...,\n",
       "        [0],\n",
       "        [0],\n",
       "        [0]]),\n",
       " array([[0],\n",
       "        [0],\n",
       "        [0],\n",
       "        ...,\n",
       "        [0],\n",
       "        [0],\n",
       "        [0]]),\n",
       " array([[0],\n",
       "        [0],\n",
       "        [0],\n",
       "        ...,\n",
       "        [0],\n",
       "        [0],\n",
       "        [0]]),\n",
       " array([[0],\n",
       "        [0],\n",
       "        [0],\n",
       "        ...,\n",
       "        [0],\n",
       "        [0],\n",
       "        [0]]),\n",
       " array([[0],\n",
       "        [0],\n",
       "        [0],\n",
       "        ...,\n",
       "        [0],\n",
       "        [0],\n",
       "        [0]]),\n",
       " array([[0],\n",
       "        [0],\n",
       "        [0],\n",
       "        ...,\n",
       "        [0],\n",
       "        [0],\n",
       "        [0]]),\n",
       " array([[0],\n",
       "        [0],\n",
       "        [0],\n",
       "        ...,\n",
       "        [0],\n",
       "        [0],\n",
       "        [0]]),\n",
       " array([[0],\n",
       "        [0],\n",
       "        [0],\n",
       "        ...,\n",
       "        [0],\n",
       "        [0],\n",
       "        [0]]),\n",
       " array([[0],\n",
       "        [0],\n",
       "        [0],\n",
       "        ...,\n",
       "        [0],\n",
       "        [0],\n",
       "        [0]]),\n",
       " array([[0],\n",
       "        [0],\n",
       "        [0],\n",
       "        ...,\n",
       "        [1],\n",
       "        [0],\n",
       "        [0]]),\n",
       " array([[0],\n",
       "        [0],\n",
       "        [0],\n",
       "        ...,\n",
       "        [0],\n",
       "        [0],\n",
       "        [0]]),\n",
       " array([[0],\n",
       "        [0],\n",
       "        [0],\n",
       "        ...,\n",
       "        [0],\n",
       "        [0],\n",
       "        [0]]),\n",
       " array([[0],\n",
       "        [0],\n",
       "        [0],\n",
       "        ...,\n",
       "        [0],\n",
       "        [0],\n",
       "        [0]]),\n",
       " array([[0],\n",
       "        [0],\n",
       "        [0],\n",
       "        ...,\n",
       "        [0],\n",
       "        [0],\n",
       "        [0]]),\n",
       " array([[0],\n",
       "        [0],\n",
       "        [0],\n",
       "        ...,\n",
       "        [0],\n",
       "        [0],\n",
       "        [0]]),\n",
       " array([[0],\n",
       "        [0],\n",
       "        [0],\n",
       "        ...,\n",
       "        [1],\n",
       "        [1],\n",
       "        [1]]),\n",
       " array([[0],\n",
       "        [0],\n",
       "        [0],\n",
       "        ...,\n",
       "        [0],\n",
       "        [0],\n",
       "        [0]]),\n",
       " array([[0],\n",
       "        [0],\n",
       "        [0],\n",
       "        ...,\n",
       "        [0],\n",
       "        [0],\n",
       "        [0]]),\n",
       " array([[0],\n",
       "        [0],\n",
       "        [0],\n",
       "        ...,\n",
       "        [1],\n",
       "        [1],\n",
       "        [1]]),\n",
       " array([[0],\n",
       "        [0],\n",
       "        [0],\n",
       "        ...,\n",
       "        [1],\n",
       "        [1],\n",
       "        [1]]),\n",
       " array([[0],\n",
       "        [0],\n",
       "        [0],\n",
       "        ...,\n",
       "        [1],\n",
       "        [0],\n",
       "        [0]]),\n",
       " array([[0],\n",
       "        [0],\n",
       "        [0],\n",
       "        ...,\n",
       "        [1],\n",
       "        [0],\n",
       "        [0]])]"
      ]
     },
     "execution_count": 99,
     "metadata": {},
     "output_type": "execute_result"
    }
   ],
   "source": [
    "train_subjects_labels"
   ]
  },
  {
   "cell_type": "code",
   "execution_count": 100,
   "metadata": {},
   "outputs": [
    {
     "data": {
      "text/plain": [
       "['imocac_expert2',\n",
       " 'ahixac_expert1',\n",
       " 'obujoh_expert2',\n",
       " 'otecab_expert2',\n",
       " 'onivuk_expert1',\n",
       " 'uqozew_expert1',\n",
       " 'ejofeq_expert2',\n",
       " 'tchgij_expert2',\n",
       " 'aretez_expert1',\n",
       " 'asifex_expert2',\n",
       " 'otuqom_expert1',\n",
       " 'uzefow_expert1',\n",
       " 'ojotew_expert1',\n",
       " 'iqiyat_expert2',\n",
       " 'efawep_expert2',\n",
       " 'opunad_expert1',\n",
       " 'ihinot_expert1',\n",
       " 'owegud_expert2',\n",
       " 'idagah_expert2',\n",
       " 'akakip_expert2',\n",
       " 'ewehov_expert2',\n",
       " 'oxisux_expert1',\n",
       " 'ohayeh_expert1',\n",
       " 'urogif_expert1',\n",
       " 'ufoyek_expert2',\n",
       " 'esirur_expert1',\n",
       " 'ohufow_expert1',\n",
       " 'exozef_expert2',\n",
       " 'aqamom_expert2',\n",
       " 'erecij_expert1',\n",
       " 'axeyoh_expert2',\n",
       " 'egemow_expert2',\n",
       " 'ihikay_expert1']"
      ]
     },
     "execution_count": 100,
     "metadata": {},
     "output_type": "execute_result"
    }
   ],
   "source": [
    "train_subjects_names"
   ]
  },
  {
   "cell_type": "code",
   "execution_count": 101,
   "metadata": {},
   "outputs": [
    {
     "name": "stdout",
     "output_type": "stream",
     "text": [
      "length of x_signals: 765045\n",
      "window size: 640\n",
      "length of x_signals: 762960\n",
      "window size: 640\n",
      "length of x_signals: 770814\n",
      "window size: 640\n",
      "length of x_signals: 817326\n",
      "window size: 640\n",
      "length of x_signals: 840582\n",
      "window size: 640\n",
      "length of x_signals: 871590\n",
      "window size: 640\n",
      "length of x_signals: 801735\n",
      "window size: 640\n",
      "length of x_signals: 856086\n",
      "window size: 640\n",
      "length of x_signals: 914989\n",
      "window size: 640\n",
      "length of x_signals: 980118\n",
      "window size: 640\n",
      "number of rows created: 12034\n",
      "number of rows created: 11944\n",
      "number of rows created: 11912\n",
      "number of rows created: 12761\n",
      "number of rows created: 12518\n",
      "number of rows created: 13125\n",
      "number of rows created: 13609\n",
      "number of rows created: 14287\n",
      "number of rows created: 13367\n",
      "number of rows created: 15305\n",
      "subjects signals, labels, names and subject to id lookup loaded\n"
     ]
    }
   ],
   "source": [
    "test_subjects_signals, test_subjects_labels, test_subjects_names, test_subject_to_id = concur_load_data(feat_config=\"cueva\", data_split=\"test\")"
   ]
  },
  {
   "cell_type": "code",
   "execution_count": 102,
   "metadata": {},
   "outputs": [
    {
     "data": {
      "text/plain": [
       "10"
      ]
     },
     "execution_count": 102,
     "metadata": {},
     "output_type": "execute_result"
    }
   ],
   "source": [
    "len(test_subjects_signals)"
   ]
  },
  {
   "cell_type": "code",
   "execution_count": 103,
   "metadata": {},
   "outputs": [],
   "source": [
    "import tensorflow as tf\n",
    "from models.cueva import LSTM_FE \n",
    "\n",
    "# using tensorflow load weights of LSTM model\n",
    "# load train and cross signals of model\n",
    "lstm_fe_hp = load_meta_data('./saved/misc/cueva_lstm-fe_meta_data.json')\n",
    "lstm_fe = LSTM_FE(**lstm_fe_hp)\n",
    "lstm_fe.load_weights('./saved/weights/cueva_lstm-fe_21_0.7489.weights.h5')"
   ]
  },
  {
   "cell_type": "code",
   "execution_count": 104,
   "metadata": {},
   "outputs": [
    {
     "data": {
      "text/html": [
       "<pre style=\"white-space:pre;overflow-x:auto;line-height:normal;font-family:Menlo,'DejaVu Sans Mono',consolas,'Courier New',monospace\"><span style=\"font-weight: bold\">Model: \"sequential_1\"</span>\n",
       "</pre>\n"
      ],
      "text/plain": [
       "\u001b[1mModel: \"sequential_1\"\u001b[0m\n"
      ]
     },
     "metadata": {},
     "output_type": "display_data"
    },
    {
     "data": {
      "text/html": [
       "<pre style=\"white-space:pre;overflow-x:auto;line-height:normal;font-family:Menlo,'DejaVu Sans Mono',consolas,'Courier New',monospace\">┏━━━━━━━━━━━━━━━━━━━━━━━━━━━━━━━━━┳━━━━━━━━━━━━━━━━━━━━━━━━┳━━━━━━━━━━━━━━━┓\n",
       "┃<span style=\"font-weight: bold\"> Layer (type)                    </span>┃<span style=\"font-weight: bold\"> Output Shape           </span>┃<span style=\"font-weight: bold\">       Param # </span>┃\n",
       "┡━━━━━━━━━━━━━━━━━━━━━━━━━━━━━━━━━╇━━━━━━━━━━━━━━━━━━━━━━━━╇━━━━━━━━━━━━━━━┩\n",
       "│ lstm-layer-1 (<span style=\"color: #0087ff; text-decoration-color: #0087ff\">LSTM</span>)             │ (<span style=\"color: #00d7ff; text-decoration-color: #00d7ff\">None</span>, <span style=\"color: #00af00; text-decoration-color: #00af00\">640</span>, <span style=\"color: #00af00; text-decoration-color: #00af00\">32</span>)        │         <span style=\"color: #00af00; text-decoration-color: #00af00\">4,352</span> │\n",
       "├─────────────────────────────────┼────────────────────────┼───────────────┤\n",
       "│ lstm-drop-1 (<span style=\"color: #0087ff; text-decoration-color: #0087ff\">Dropout</span>)           │ (<span style=\"color: #00d7ff; text-decoration-color: #00d7ff\">None</span>, <span style=\"color: #00af00; text-decoration-color: #00af00\">640</span>, <span style=\"color: #00af00; text-decoration-color: #00af00\">32</span>)        │             <span style=\"color: #00af00; text-decoration-color: #00af00\">0</span> │\n",
       "├─────────────────────────────────┼────────────────────────┼───────────────┤\n",
       "│ lstm-layer-2 (<span style=\"color: #0087ff; text-decoration-color: #0087ff\">LSTM</span>)             │ (<span style=\"color: #00d7ff; text-decoration-color: #00d7ff\">None</span>, <span style=\"color: #00af00; text-decoration-color: #00af00\">32</span>)             │         <span style=\"color: #00af00; text-decoration-color: #00af00\">8,320</span> │\n",
       "├─────────────────────────────────┼────────────────────────┼───────────────┤\n",
       "│ lstm-drop-2 (<span style=\"color: #0087ff; text-decoration-color: #0087ff\">Dropout</span>)           │ (<span style=\"color: #00d7ff; text-decoration-color: #00d7ff\">None</span>, <span style=\"color: #00af00; text-decoration-color: #00af00\">32</span>)             │             <span style=\"color: #00af00; text-decoration-color: #00af00\">0</span> │\n",
       "├─────────────────────────────────┼────────────────────────┼───────────────┤\n",
       "│ dense-layer-1 (<span style=\"color: #0087ff; text-decoration-color: #0087ff\">Dense</span>)           │ (<span style=\"color: #00d7ff; text-decoration-color: #00d7ff\">None</span>, <span style=\"color: #00af00; text-decoration-color: #00af00\">10</span>)             │           <span style=\"color: #00af00; text-decoration-color: #00af00\">330</span> │\n",
       "├─────────────────────────────────┼────────────────────────┼───────────────┤\n",
       "│ dense-norm-1                    │ (<span style=\"color: #00d7ff; text-decoration-color: #00d7ff\">None</span>, <span style=\"color: #00af00; text-decoration-color: #00af00\">10</span>)             │            <span style=\"color: #00af00; text-decoration-color: #00af00\">40</span> │\n",
       "│ (<span style=\"color: #0087ff; text-decoration-color: #0087ff\">BatchNormalization</span>)            │                        │               │\n",
       "├─────────────────────────────────┼────────────────────────┼───────────────┤\n",
       "│ act-layer-1 (<span style=\"color: #0087ff; text-decoration-color: #0087ff\">Activation</span>)        │ (<span style=\"color: #00d7ff; text-decoration-color: #00d7ff\">None</span>, <span style=\"color: #00af00; text-decoration-color: #00af00\">10</span>)             │             <span style=\"color: #00af00; text-decoration-color: #00af00\">0</span> │\n",
       "├─────────────────────────────────┼────────────────────────┼───────────────┤\n",
       "│ dense-drop-1 (<span style=\"color: #0087ff; text-decoration-color: #0087ff\">Dropout</span>)          │ (<span style=\"color: #00d7ff; text-decoration-color: #00d7ff\">None</span>, <span style=\"color: #00af00; text-decoration-color: #00af00\">10</span>)             │             <span style=\"color: #00af00; text-decoration-color: #00af00\">0</span> │\n",
       "├─────────────────────────────────┼────────────────────────┼───────────────┤\n",
       "│ dense-layer-2 (<span style=\"color: #0087ff; text-decoration-color: #0087ff\">Dense</span>)           │ (<span style=\"color: #00d7ff; text-decoration-color: #00d7ff\">None</span>, <span style=\"color: #00af00; text-decoration-color: #00af00\">3</span>)              │            <span style=\"color: #00af00; text-decoration-color: #00af00\">33</span> │\n",
       "├─────────────────────────────────┼────────────────────────┼───────────────┤\n",
       "│ dense-norm-2                    │ (<span style=\"color: #00d7ff; text-decoration-color: #00d7ff\">None</span>, <span style=\"color: #00af00; text-decoration-color: #00af00\">3</span>)              │            <span style=\"color: #00af00; text-decoration-color: #00af00\">12</span> │\n",
       "│ (<span style=\"color: #0087ff; text-decoration-color: #0087ff\">BatchNormalization</span>)            │                        │               │\n",
       "├─────────────────────────────────┼────────────────────────┼───────────────┤\n",
       "│ act-layer-2 (<span style=\"color: #0087ff; text-decoration-color: #0087ff\">Activation</span>)        │ (<span style=\"color: #00d7ff; text-decoration-color: #00d7ff\">None</span>, <span style=\"color: #00af00; text-decoration-color: #00af00\">3</span>)              │             <span style=\"color: #00af00; text-decoration-color: #00af00\">0</span> │\n",
       "├─────────────────────────────────┼────────────────────────┼───────────────┤\n",
       "│ out-layer (<span style=\"color: #0087ff; text-decoration-color: #0087ff\">Dense</span>)               │ (<span style=\"color: #00d7ff; text-decoration-color: #00d7ff\">None</span>, <span style=\"color: #00af00; text-decoration-color: #00af00\">1</span>)              │             <span style=\"color: #00af00; text-decoration-color: #00af00\">4</span> │\n",
       "└─────────────────────────────────┴────────────────────────┴───────────────┘\n",
       "</pre>\n"
      ],
      "text/plain": [
       "┏━━━━━━━━━━━━━━━━━━━━━━━━━━━━━━━━━┳━━━━━━━━━━━━━━━━━━━━━━━━┳━━━━━━━━━━━━━━━┓\n",
       "┃\u001b[1m \u001b[0m\u001b[1mLayer (type)                   \u001b[0m\u001b[1m \u001b[0m┃\u001b[1m \u001b[0m\u001b[1mOutput Shape          \u001b[0m\u001b[1m \u001b[0m┃\u001b[1m \u001b[0m\u001b[1m      Param #\u001b[0m\u001b[1m \u001b[0m┃\n",
       "┡━━━━━━━━━━━━━━━━━━━━━━━━━━━━━━━━━╇━━━━━━━━━━━━━━━━━━━━━━━━╇━━━━━━━━━━━━━━━┩\n",
       "│ lstm-layer-1 (\u001b[38;5;33mLSTM\u001b[0m)             │ (\u001b[38;5;45mNone\u001b[0m, \u001b[38;5;34m640\u001b[0m, \u001b[38;5;34m32\u001b[0m)        │         \u001b[38;5;34m4,352\u001b[0m │\n",
       "├─────────────────────────────────┼────────────────────────┼───────────────┤\n",
       "│ lstm-drop-1 (\u001b[38;5;33mDropout\u001b[0m)           │ (\u001b[38;5;45mNone\u001b[0m, \u001b[38;5;34m640\u001b[0m, \u001b[38;5;34m32\u001b[0m)        │             \u001b[38;5;34m0\u001b[0m │\n",
       "├─────────────────────────────────┼────────────────────────┼───────────────┤\n",
       "│ lstm-layer-2 (\u001b[38;5;33mLSTM\u001b[0m)             │ (\u001b[38;5;45mNone\u001b[0m, \u001b[38;5;34m32\u001b[0m)             │         \u001b[38;5;34m8,320\u001b[0m │\n",
       "├─────────────────────────────────┼────────────────────────┼───────────────┤\n",
       "│ lstm-drop-2 (\u001b[38;5;33mDropout\u001b[0m)           │ (\u001b[38;5;45mNone\u001b[0m, \u001b[38;5;34m32\u001b[0m)             │             \u001b[38;5;34m0\u001b[0m │\n",
       "├─────────────────────────────────┼────────────────────────┼───────────────┤\n",
       "│ dense-layer-1 (\u001b[38;5;33mDense\u001b[0m)           │ (\u001b[38;5;45mNone\u001b[0m, \u001b[38;5;34m10\u001b[0m)             │           \u001b[38;5;34m330\u001b[0m │\n",
       "├─────────────────────────────────┼────────────────────────┼───────────────┤\n",
       "│ dense-norm-1                    │ (\u001b[38;5;45mNone\u001b[0m, \u001b[38;5;34m10\u001b[0m)             │            \u001b[38;5;34m40\u001b[0m │\n",
       "│ (\u001b[38;5;33mBatchNormalization\u001b[0m)            │                        │               │\n",
       "├─────────────────────────────────┼────────────────────────┼───────────────┤\n",
       "│ act-layer-1 (\u001b[38;5;33mActivation\u001b[0m)        │ (\u001b[38;5;45mNone\u001b[0m, \u001b[38;5;34m10\u001b[0m)             │             \u001b[38;5;34m0\u001b[0m │\n",
       "├─────────────────────────────────┼────────────────────────┼───────────────┤\n",
       "│ dense-drop-1 (\u001b[38;5;33mDropout\u001b[0m)          │ (\u001b[38;5;45mNone\u001b[0m, \u001b[38;5;34m10\u001b[0m)             │             \u001b[38;5;34m0\u001b[0m │\n",
       "├─────────────────────────────────┼────────────────────────┼───────────────┤\n",
       "│ dense-layer-2 (\u001b[38;5;33mDense\u001b[0m)           │ (\u001b[38;5;45mNone\u001b[0m, \u001b[38;5;34m3\u001b[0m)              │            \u001b[38;5;34m33\u001b[0m │\n",
       "├─────────────────────────────────┼────────────────────────┼───────────────┤\n",
       "│ dense-norm-2                    │ (\u001b[38;5;45mNone\u001b[0m, \u001b[38;5;34m3\u001b[0m)              │            \u001b[38;5;34m12\u001b[0m │\n",
       "│ (\u001b[38;5;33mBatchNormalization\u001b[0m)            │                        │               │\n",
       "├─────────────────────────────────┼────────────────────────┼───────────────┤\n",
       "│ act-layer-2 (\u001b[38;5;33mActivation\u001b[0m)        │ (\u001b[38;5;45mNone\u001b[0m, \u001b[38;5;34m3\u001b[0m)              │             \u001b[38;5;34m0\u001b[0m │\n",
       "├─────────────────────────────────┼────────────────────────┼───────────────┤\n",
       "│ out-layer (\u001b[38;5;33mDense\u001b[0m)               │ (\u001b[38;5;45mNone\u001b[0m, \u001b[38;5;34m1\u001b[0m)              │             \u001b[38;5;34m4\u001b[0m │\n",
       "└─────────────────────────────────┴────────────────────────┴───────────────┘\n"
      ]
     },
     "metadata": {},
     "output_type": "display_data"
    },
    {
     "data": {
      "text/html": [
       "<pre style=\"white-space:pre;overflow-x:auto;line-height:normal;font-family:Menlo,'DejaVu Sans Mono',consolas,'Courier New',monospace\"><span style=\"font-weight: bold\"> Total params: </span><span style=\"color: #00af00; text-decoration-color: #00af00\">13,091</span> (51.14 KB)\n",
       "</pre>\n"
      ],
      "text/plain": [
       "\u001b[1m Total params: \u001b[0m\u001b[38;5;34m13,091\u001b[0m (51.14 KB)\n"
      ]
     },
     "metadata": {},
     "output_type": "display_data"
    },
    {
     "data": {
      "text/html": [
       "<pre style=\"white-space:pre;overflow-x:auto;line-height:normal;font-family:Menlo,'DejaVu Sans Mono',consolas,'Courier New',monospace\"><span style=\"font-weight: bold\"> Trainable params: </span><span style=\"color: #00af00; text-decoration-color: #00af00\">13,065</span> (51.04 KB)\n",
       "</pre>\n"
      ],
      "text/plain": [
       "\u001b[1m Trainable params: \u001b[0m\u001b[38;5;34m13,065\u001b[0m (51.04 KB)\n"
      ]
     },
     "metadata": {},
     "output_type": "display_data"
    },
    {
     "data": {
      "text/html": [
       "<pre style=\"white-space:pre;overflow-x:auto;line-height:normal;font-family:Menlo,'DejaVu Sans Mono',consolas,'Courier New',monospace\"><span style=\"font-weight: bold\"> Non-trainable params: </span><span style=\"color: #00af00; text-decoration-color: #00af00\">26</span> (104.00 B)\n",
       "</pre>\n"
      ],
      "text/plain": [
       "\u001b[1m Non-trainable params: \u001b[0m\u001b[38;5;34m26\u001b[0m (104.00 B)\n"
      ]
     },
     "metadata": {},
     "output_type": "display_data"
    }
   ],
   "source": [
    "lstm_fe.summary()"
   ]
  },
  {
   "cell_type": "code",
   "execution_count": 105,
   "metadata": {},
   "outputs": [
    {
     "data": {
      "text/plain": [
       "<KerasTensor shape=(None, 32), dtype=float32, sparse=False, name=keras_tensor_85>"
      ]
     },
     "execution_count": 105,
     "metadata": {},
     "output_type": "execute_result"
    }
   ],
   "source": [
    "lstm_layer_2 = lstm_fe.get_layer('lstm-layer-2')\n",
    "lstm_layer_2.output"
   ]
  },
  {
   "cell_type": "code",
   "execution_count": 106,
   "metadata": {},
   "outputs": [
    {
     "data": {
      "text/plain": [
       "[<KerasTensor shape=(None, 640, 1), dtype=float32, sparse=None, name=keras_tensor_79>]"
      ]
     },
     "execution_count": 106,
     "metadata": {},
     "output_type": "execute_result"
    }
   ],
   "source": [
    "lstm_fe.inputs"
   ]
  },
  {
   "cell_type": "code",
   "execution_count": 107,
   "metadata": {},
   "outputs": [
    {
     "data": {
      "text/plain": [
       "<Functional name=functional_25, built=True>"
      ]
     },
     "execution_count": 107,
     "metadata": {},
     "output_type": "execute_result"
    }
   ],
   "source": [
    "lstm_fe_main = tf.keras.Model(inputs=lstm_fe.inputs, outputs=lstm_layer_2.output)\n",
    "lstm_fe_main"
   ]
  },
  {
   "cell_type": "code",
   "execution_count": 108,
   "metadata": {},
   "outputs": [
    {
     "data": {
      "text/html": [
       "<pre style=\"white-space:pre;overflow-x:auto;line-height:normal;font-family:Menlo,'DejaVu Sans Mono',consolas,'Courier New',monospace\"><span style=\"font-weight: bold\">Model: \"functional_25\"</span>\n",
       "</pre>\n"
      ],
      "text/plain": [
       "\u001b[1mModel: \"functional_25\"\u001b[0m\n"
      ]
     },
     "metadata": {},
     "output_type": "display_data"
    },
    {
     "data": {
      "text/html": [
       "<pre style=\"white-space:pre;overflow-x:auto;line-height:normal;font-family:Menlo,'DejaVu Sans Mono',consolas,'Courier New',monospace\">┏━━━━━━━━━━━━━━━━━━━━━━━━━━━━━━━━━┳━━━━━━━━━━━━━━━━━━━━━━━━┳━━━━━━━━━━━━━━━┓\n",
       "┃<span style=\"font-weight: bold\"> Layer (type)                    </span>┃<span style=\"font-weight: bold\"> Output Shape           </span>┃<span style=\"font-weight: bold\">       Param # </span>┃\n",
       "┡━━━━━━━━━━━━━━━━━━━━━━━━━━━━━━━━━╇━━━━━━━━━━━━━━━━━━━━━━━━╇━━━━━━━━━━━━━━━┩\n",
       "│ input_layer_1 (<span style=\"color: #0087ff; text-decoration-color: #0087ff\">InputLayer</span>)      │ (<span style=\"color: #00d7ff; text-decoration-color: #00d7ff\">None</span>, <span style=\"color: #00af00; text-decoration-color: #00af00\">640</span>, <span style=\"color: #00af00; text-decoration-color: #00af00\">1</span>)         │             <span style=\"color: #00af00; text-decoration-color: #00af00\">0</span> │\n",
       "├─────────────────────────────────┼────────────────────────┼───────────────┤\n",
       "│ lstm-layer-1 (<span style=\"color: #0087ff; text-decoration-color: #0087ff\">LSTM</span>)             │ (<span style=\"color: #00d7ff; text-decoration-color: #00d7ff\">None</span>, <span style=\"color: #00af00; text-decoration-color: #00af00\">640</span>, <span style=\"color: #00af00; text-decoration-color: #00af00\">32</span>)        │         <span style=\"color: #00af00; text-decoration-color: #00af00\">4,352</span> │\n",
       "├─────────────────────────────────┼────────────────────────┼───────────────┤\n",
       "│ lstm-drop-1 (<span style=\"color: #0087ff; text-decoration-color: #0087ff\">Dropout</span>)           │ (<span style=\"color: #00d7ff; text-decoration-color: #00d7ff\">None</span>, <span style=\"color: #00af00; text-decoration-color: #00af00\">640</span>, <span style=\"color: #00af00; text-decoration-color: #00af00\">32</span>)        │             <span style=\"color: #00af00; text-decoration-color: #00af00\">0</span> │\n",
       "├─────────────────────────────────┼────────────────────────┼───────────────┤\n",
       "│ lstm-layer-2 (<span style=\"color: #0087ff; text-decoration-color: #0087ff\">LSTM</span>)             │ (<span style=\"color: #00d7ff; text-decoration-color: #00d7ff\">None</span>, <span style=\"color: #00af00; text-decoration-color: #00af00\">32</span>)             │         <span style=\"color: #00af00; text-decoration-color: #00af00\">8,320</span> │\n",
       "└─────────────────────────────────┴────────────────────────┴───────────────┘\n",
       "</pre>\n"
      ],
      "text/plain": [
       "┏━━━━━━━━━━━━━━━━━━━━━━━━━━━━━━━━━┳━━━━━━━━━━━━━━━━━━━━━━━━┳━━━━━━━━━━━━━━━┓\n",
       "┃\u001b[1m \u001b[0m\u001b[1mLayer (type)                   \u001b[0m\u001b[1m \u001b[0m┃\u001b[1m \u001b[0m\u001b[1mOutput Shape          \u001b[0m\u001b[1m \u001b[0m┃\u001b[1m \u001b[0m\u001b[1m      Param #\u001b[0m\u001b[1m \u001b[0m┃\n",
       "┡━━━━━━━━━━━━━━━━━━━━━━━━━━━━━━━━━╇━━━━━━━━━━━━━━━━━━━━━━━━╇━━━━━━━━━━━━━━━┩\n",
       "│ input_layer_1 (\u001b[38;5;33mInputLayer\u001b[0m)      │ (\u001b[38;5;45mNone\u001b[0m, \u001b[38;5;34m640\u001b[0m, \u001b[38;5;34m1\u001b[0m)         │             \u001b[38;5;34m0\u001b[0m │\n",
       "├─────────────────────────────────┼────────────────────────┼───────────────┤\n",
       "│ lstm-layer-1 (\u001b[38;5;33mLSTM\u001b[0m)             │ (\u001b[38;5;45mNone\u001b[0m, \u001b[38;5;34m640\u001b[0m, \u001b[38;5;34m32\u001b[0m)        │         \u001b[38;5;34m4,352\u001b[0m │\n",
       "├─────────────────────────────────┼────────────────────────┼───────────────┤\n",
       "│ lstm-drop-1 (\u001b[38;5;33mDropout\u001b[0m)           │ (\u001b[38;5;45mNone\u001b[0m, \u001b[38;5;34m640\u001b[0m, \u001b[38;5;34m32\u001b[0m)        │             \u001b[38;5;34m0\u001b[0m │\n",
       "├─────────────────────────────────┼────────────────────────┼───────────────┤\n",
       "│ lstm-layer-2 (\u001b[38;5;33mLSTM\u001b[0m)             │ (\u001b[38;5;45mNone\u001b[0m, \u001b[38;5;34m32\u001b[0m)             │         \u001b[38;5;34m8,320\u001b[0m │\n",
       "└─────────────────────────────────┴────────────────────────┴───────────────┘\n"
      ]
     },
     "metadata": {},
     "output_type": "display_data"
    },
    {
     "data": {
      "text/html": [
       "<pre style=\"white-space:pre;overflow-x:auto;line-height:normal;font-family:Menlo,'DejaVu Sans Mono',consolas,'Courier New',monospace\"><span style=\"font-weight: bold\"> Total params: </span><span style=\"color: #00af00; text-decoration-color: #00af00\">12,672</span> (49.50 KB)\n",
       "</pre>\n"
      ],
      "text/plain": [
       "\u001b[1m Total params: \u001b[0m\u001b[38;5;34m12,672\u001b[0m (49.50 KB)\n"
      ]
     },
     "metadata": {},
     "output_type": "display_data"
    },
    {
     "data": {
      "text/html": [
       "<pre style=\"white-space:pre;overflow-x:auto;line-height:normal;font-family:Menlo,'DejaVu Sans Mono',consolas,'Courier New',monospace\"><span style=\"font-weight: bold\"> Trainable params: </span><span style=\"color: #00af00; text-decoration-color: #00af00\">12,672</span> (49.50 KB)\n",
       "</pre>\n"
      ],
      "text/plain": [
       "\u001b[1m Trainable params: \u001b[0m\u001b[38;5;34m12,672\u001b[0m (49.50 KB)\n"
      ]
     },
     "metadata": {},
     "output_type": "display_data"
    },
    {
     "data": {
      "text/html": [
       "<pre style=\"white-space:pre;overflow-x:auto;line-height:normal;font-family:Menlo,'DejaVu Sans Mono',consolas,'Courier New',monospace\"><span style=\"font-weight: bold\"> Non-trainable params: </span><span style=\"color: #00af00; text-decoration-color: #00af00\">0</span> (0.00 B)\n",
       "</pre>\n"
      ],
      "text/plain": [
       "\u001b[1m Non-trainable params: \u001b[0m\u001b[38;5;34m0\u001b[0m (0.00 B)\n"
      ]
     },
     "metadata": {},
     "output_type": "display_data"
    }
   ],
   "source": [
    "lstm_fe_main.summary()"
   ]
  },
  {
   "cell_type": "markdown",
   "metadata": {},
   "source": [
    "# subjects_signals[0] for instance previously had a shape (10701, 640, 1) and after feature extraction its shape  will now be (10701, 32) since the number of output units of the LSTM set was 32"
   ]
  },
  {
   "cell_type": "code",
   "execution_count": 109,
   "metadata": {},
   "outputs": [
    {
     "name": "stdout",
     "output_type": "stream",
     "text": [
      "subject: imocac_expert2\n",
      "initial shape: (11792, 640, 1)\n",
      "\u001b[1m369/369\u001b[0m \u001b[32m━━━━━━━━━━━━━━━━━━━━\u001b[0m\u001b[37m\u001b[0m \u001b[1m17s\u001b[0m 45ms/step\n",
      "output shape: (11792, 32)\n",
      "subject: ahixac_expert1\n",
      "initial shape: (13003, 640, 1)\n",
      "\u001b[1m407/407\u001b[0m \u001b[32m━━━━━━━━━━━━━━━━━━━━\u001b[0m\u001b[37m\u001b[0m \u001b[1m21s\u001b[0m 51ms/step\n",
      "output shape: (13003, 32)\n",
      "subject: obujoh_expert2\n",
      "initial shape: (12792, 640, 1)\n",
      "\u001b[1m400/400\u001b[0m \u001b[32m━━━━━━━━━━━━━━━━━━━━\u001b[0m\u001b[37m\u001b[0m \u001b[1m18s\u001b[0m 44ms/step\n",
      "output shape: (12792, 32)\n",
      "subject: otecab_expert2\n",
      "initial shape: (11792, 640, 1)\n",
      "\u001b[1m369/369\u001b[0m \u001b[32m━━━━━━━━━━━━━━━━━━━━\u001b[0m\u001b[37m\u001b[0m \u001b[1m17s\u001b[0m 45ms/step\n",
      "output shape: (11792, 32)\n",
      "subject: onivuk_expert1\n",
      "initial shape: (11717, 640, 1)\n",
      "\u001b[1m367/367\u001b[0m \u001b[32m━━━━━━━━━━━━━━━━━━━━\u001b[0m\u001b[37m\u001b[0m \u001b[1m17s\u001b[0m 46ms/step\n",
      "output shape: (11717, 32)\n",
      "subject: uqozew_expert1\n",
      "initial shape: (13609, 640, 1)\n",
      "\u001b[1m426/426\u001b[0m \u001b[32m━━━━━━━━━━━━━━━━━━━━\u001b[0m\u001b[37m\u001b[0m \u001b[1m20s\u001b[0m 46ms/step\n",
      "output shape: (13609, 32)\n",
      "subject: ejofeq_expert2\n",
      "initial shape: (10498, 640, 1)\n",
      "\u001b[1m329/329\u001b[0m \u001b[32m━━━━━━━━━━━━━━━━━━━━\u001b[0m\u001b[37m\u001b[0m \u001b[1m15s\u001b[0m 45ms/step\n",
      "output shape: (10498, 32)\n",
      "subject: tchgij_expert2\n",
      "initial shape: (11671, 640, 1)\n",
      "\u001b[1m365/365\u001b[0m \u001b[32m━━━━━━━━━━━━━━━━━━━━\u001b[0m\u001b[37m\u001b[0m \u001b[1m16s\u001b[0m 45ms/step\n",
      "output shape: (11671, 32)\n",
      "subject: aretez_expert1\n",
      "initial shape: (11706, 640, 1)\n",
      "\u001b[1m366/366\u001b[0m \u001b[32m━━━━━━━━━━━━━━━━━━━━\u001b[0m\u001b[37m\u001b[0m \u001b[1m15s\u001b[0m 41ms/step\n",
      "output shape: (11706, 32)\n",
      "subject: asifex_expert2\n",
      "initial shape: (11429, 640, 1)\n",
      "\u001b[1m358/358\u001b[0m \u001b[32m━━━━━━━━━━━━━━━━━━━━\u001b[0m\u001b[37m\u001b[0m \u001b[1m18s\u001b[0m 50ms/step\n",
      "output shape: (11429, 32)\n",
      "subject: otuqom_expert1\n",
      "initial shape: (14455, 640, 1)\n",
      "\u001b[1m452/452\u001b[0m \u001b[32m━━━━━━━━━━━━━━━━━━━━\u001b[0m\u001b[37m\u001b[0m \u001b[1m24s\u001b[0m 53ms/step\n",
      "output shape: (14455, 32)\n",
      "subject: uzefow_expert1\n",
      "initial shape: (11064, 640, 1)\n",
      "\u001b[1m346/346\u001b[0m \u001b[32m━━━━━━━━━━━━━━━━━━━━\u001b[0m\u001b[37m\u001b[0m \u001b[1m15s\u001b[0m 43ms/step\n",
      "output shape: (11064, 32)\n",
      "subject: ojotew_expert1\n",
      "initial shape: (12398, 640, 1)\n",
      "\u001b[1m388/388\u001b[0m \u001b[32m━━━━━━━━━━━━━━━━━━━━\u001b[0m\u001b[37m\u001b[0m \u001b[1m17s\u001b[0m 43ms/step\n",
      "output shape: (12398, 32)\n",
      "subject: iqiyat_expert2\n",
      "initial shape: (11740, 640, 1)\n",
      "\u001b[1m367/367\u001b[0m \u001b[32m━━━━━━━━━━━━━━━━━━━━\u001b[0m\u001b[37m\u001b[0m \u001b[1m15s\u001b[0m 42ms/step\n",
      "output shape: (11740, 32)\n",
      "subject: efawep_expert2\n",
      "initial shape: (12212, 640, 1)\n",
      "\u001b[1m382/382\u001b[0m \u001b[32m━━━━━━━━━━━━━━━━━━━━\u001b[0m\u001b[37m\u001b[0m \u001b[1m16s\u001b[0m 42ms/step\n",
      "output shape: (12212, 32)\n",
      "subject: opunad_expert1\n",
      "initial shape: (12277, 640, 1)\n",
      "\u001b[1m384/384\u001b[0m \u001b[32m━━━━━━━━━━━━━━━━━━━━\u001b[0m\u001b[37m\u001b[0m \u001b[1m16s\u001b[0m 43ms/step\n",
      "output shape: (12277, 32)\n",
      "subject: ihinot_expert1\n",
      "initial shape: (12761, 640, 1)\n",
      "\u001b[1m399/399\u001b[0m \u001b[32m━━━━━━━━━━━━━━━━━━━━\u001b[0m\u001b[37m\u001b[0m \u001b[1m17s\u001b[0m 42ms/step\n",
      "output shape: (12761, 32)\n",
      "subject: owegud_expert2\n",
      "initial shape: (12277, 640, 1)\n",
      "\u001b[1m384/384\u001b[0m \u001b[32m━━━━━━━━━━━━━━━━━━━━\u001b[0m\u001b[37m\u001b[0m \u001b[1m16s\u001b[0m 43ms/step\n",
      "output shape: (12277, 32)\n",
      "subject: idagah_expert2\n",
      "initial shape: (11810, 640, 1)\n",
      "\u001b[1m370/370\u001b[0m \u001b[32m━━━━━━━━━━━━━━━━━━━━\u001b[0m\u001b[37m\u001b[0m \u001b[1m16s\u001b[0m 42ms/step\n",
      "output shape: (11810, 32)\n",
      "subject: akakip_expert2\n",
      "initial shape: (12034, 640, 1)\n",
      "\u001b[1m377/377\u001b[0m \u001b[32m━━━━━━━━━━━━━━━━━━━━\u001b[0m\u001b[37m\u001b[0m \u001b[1m16s\u001b[0m 43ms/step\n",
      "output shape: (12034, 32)\n",
      "subject: ewehov_expert2\n",
      "initial shape: (14094, 640, 1)\n",
      "\u001b[1m441/441\u001b[0m \u001b[32m━━━━━━━━━━━━━━━━━━━━\u001b[0m\u001b[37m\u001b[0m \u001b[1m19s\u001b[0m 44ms/step\n",
      "output shape: (14094, 32)\n",
      "subject: oxisux_expert1\n",
      "initial shape: (10700, 640, 1)\n",
      "\u001b[1m335/335\u001b[0m \u001b[32m━━━━━━━━━━━━━━━━━━━━\u001b[0m\u001b[37m\u001b[0m \u001b[1m14s\u001b[0m 43ms/step\n",
      "output shape: (10700, 32)\n",
      "subject: ohayeh_expert1\n",
      "initial shape: (12640, 640, 1)\n",
      "\u001b[1m395/395\u001b[0m \u001b[32m━━━━━━━━━━━━━━━━━━━━\u001b[0m\u001b[37m\u001b[0m \u001b[1m17s\u001b[0m 44ms/step\n",
      "output shape: (12640, 32)\n",
      "subject: urogif_expert1\n",
      "initial shape: (11841, 640, 1)\n",
      "\u001b[1m371/371\u001b[0m \u001b[32m━━━━━━━━━━━━━━━━━━━━\u001b[0m\u001b[37m\u001b[0m \u001b[1m16s\u001b[0m 43ms/step\n",
      "output shape: (11841, 32)\n",
      "subject: ufoyek_expert2\n",
      "initial shape: (12398, 640, 1)\n",
      "\u001b[1m388/388\u001b[0m \u001b[32m━━━━━━━━━━━━━━━━━━━━\u001b[0m\u001b[37m\u001b[0m \u001b[1m17s\u001b[0m 43ms/step\n",
      "output shape: (12398, 32)\n",
      "subject: esirur_expert1\n",
      "initial shape: (12640, 640, 1)\n",
      "\u001b[1m395/395\u001b[0m \u001b[32m━━━━━━━━━━━━━━━━━━━━\u001b[0m\u001b[37m\u001b[0m \u001b[1m17s\u001b[0m 43ms/step\n",
      "output shape: (12640, 32)\n",
      "subject: ohufow_expert1\n",
      "initial shape: (12882, 640, 1)\n",
      "\u001b[1m403/403\u001b[0m \u001b[32m━━━━━━━━━━━━━━━━━━━━\u001b[0m\u001b[37m\u001b[0m \u001b[1m18s\u001b[0m 44ms/step\n",
      "output shape: (12882, 32)\n",
      "subject: exozef_expert2\n",
      "initial shape: (12154, 640, 1)\n",
      "\u001b[1m380/380\u001b[0m \u001b[32m━━━━━━━━━━━━━━━━━━━━\u001b[0m\u001b[37m\u001b[0m \u001b[1m16s\u001b[0m 43ms/step\n",
      "output shape: (12154, 32)\n",
      "subject: aqamom_expert2\n",
      "initial shape: (11792, 640, 1)\n",
      "\u001b[1m369/369\u001b[0m \u001b[32m━━━━━━━━━━━━━━━━━━━━\u001b[0m\u001b[37m\u001b[0m \u001b[1m16s\u001b[0m 43ms/step\n",
      "output shape: (11792, 32)\n",
      "subject: erecij_expert1\n",
      "initial shape: (12519, 640, 1)\n",
      "\u001b[1m392/392\u001b[0m \u001b[32m━━━━━━━━━━━━━━━━━━━━\u001b[0m\u001b[37m\u001b[0m \u001b[1m17s\u001b[0m 44ms/step\n",
      "output shape: (12519, 32)\n",
      "subject: axeyoh_expert2\n",
      "initial shape: (11328, 640, 1)\n",
      "\u001b[1m354/354\u001b[0m \u001b[32m━━━━━━━━━━━━━━━━━━━━\u001b[0m\u001b[37m\u001b[0m \u001b[1m15s\u001b[0m 43ms/step\n",
      "output shape: (11328, 32)\n",
      "subject: egemow_expert2\n",
      "initial shape: (13021, 640, 1)\n",
      "\u001b[1m407/407\u001b[0m \u001b[32m━━━━━━━━━━━━━━━━━━━━\u001b[0m\u001b[37m\u001b[0m \u001b[1m17s\u001b[0m 43ms/step\n",
      "output shape: (13021, 32)\n",
      "subject: ihikay_expert1\n",
      "initial shape: (13818, 640, 1)\n",
      "\u001b[1m432/432\u001b[0m \u001b[32m━━━━━━━━━━━━━━━━━━━━\u001b[0m\u001b[37m\u001b[0m \u001b[1m18s\u001b[0m 43ms/step\n",
      "output shape: (13818, 32)\n"
     ]
    }
   ],
   "source": [
    "for index, train_subject_name in enumerate(train_subjects_names):\n",
    "    # use last lstm layer of trained side task model to predict\n",
    "    # output that will be used as features given the original signals \n",
    "    print(f'subject: {train_subject_name}')\n",
    "    print(f'initial shape: {train_subjects_signals[index].shape}')\n",
    "    train_subject_hof = lstm_fe_main.predict(train_subjects_signals[index])\n",
    "    print(f'output shape: {train_subject_hof.shape}')\n",
    "\n",
    "    # create columns with its length the same as the number of columns\n",
    "    # of the higher order features matrix \n",
    "    columns = [f'HOF_{i}' for i in range(1, train_subject_hof.shape[1] + 1)]\n",
    "    train_subject_hof_df = pd.DataFrame(train_subject_hof, columns=columns)\n",
    "\n",
    "    # save both lstm features and lstm labels\n",
    "    train_subject_hof_df.to_csv(f'./data/Hybrid Artifact Detection Data/train/{train_subject_name}_hof.csv')"
   ]
  },
  {
   "cell_type": "code",
   "execution_count": 110,
   "metadata": {},
   "outputs": [
    {
     "name": "stdout",
     "output_type": "stream",
     "text": [
      "subject: oxused_expert2\n",
      "initial shape: (11944, 640, 1)\n",
      "\u001b[1m374/374\u001b[0m \u001b[32m━━━━━━━━━━━━━━━━━━━━\u001b[0m\u001b[37m\u001b[0m \u001b[1m17s\u001b[0m 45ms/step\n",
      "output shape: (11944, 32)\n",
      "subject: ekamis_expert2\n",
      "initial shape: (13609, 640, 1)\n",
      "\u001b[1m426/426\u001b[0m \u001b[32m━━━━━━━━━━━━━━━━━━━━\u001b[0m\u001b[37m\u001b[0m \u001b[1m21s\u001b[0m 49ms/step\n",
      "output shape: (13609, 32)\n",
      "subject: otafeh_expert1\n",
      "initial shape: (11912, 640, 1)\n",
      "\u001b[1m373/373\u001b[0m \u001b[32m━━━━━━━━━━━━━━━━━━━━\u001b[0m\u001b[37m\u001b[0m \u001b[1m18s\u001b[0m 48ms/step\n",
      "output shape: (11912, 32)\n",
      "subject: uhepah_expert1\n",
      "initial shape: (12034, 640, 1)\n",
      "\u001b[1m377/377\u001b[0m \u001b[32m━━━━━━━━━━━━━━━━━━━━\u001b[0m\u001b[37m\u001b[0m \u001b[1m16s\u001b[0m 41ms/step\n",
      "output shape: (12034, 32)\n",
      "subject: ajeric_expert2\n",
      "initial shape: (12761, 640, 1)\n",
      "\u001b[1m399/399\u001b[0m \u001b[32m━━━━━━━━━━━━━━━━━━━━\u001b[0m\u001b[37m\u001b[0m \u001b[1m18s\u001b[0m 44ms/step\n",
      "output shape: (12761, 32)\n",
      "subject: inefoh_expert1\n",
      "initial shape: (13367, 640, 1)\n",
      "\u001b[1m418/418\u001b[0m \u001b[32m━━━━━━━━━━━━━━━━━━━━\u001b[0m\u001b[37m\u001b[0m \u001b[1m17s\u001b[0m 40ms/step\n",
      "output shape: (13367, 32)\n",
      "subject: pqbqpr_expert2\n",
      "initial shape: (15305, 640, 1)\n",
      "\u001b[1m479/479\u001b[0m \u001b[32m━━━━━━━━━━━━━━━━━━━━\u001b[0m\u001b[37m\u001b[0m \u001b[1m19s\u001b[0m 40ms/step\n",
      "output shape: (15305, 32)\n",
      "subject: afegip_expert1\n",
      "initial shape: (12518, 640, 1)\n",
      "\u001b[1m392/392\u001b[0m \u001b[32m━━━━━━━━━━━━━━━━━━━━\u001b[0m\u001b[37m\u001b[0m \u001b[1m16s\u001b[0m 41ms/step\n",
      "output shape: (12518, 32)\n",
      "subject: ukudab_expert2\n",
      "initial shape: (14287, 640, 1)\n",
      "\u001b[1m447/447\u001b[0m \u001b[32m━━━━━━━━━━━━━━━━━━━━\u001b[0m\u001b[37m\u001b[0m \u001b[1m18s\u001b[0m 39ms/step\n",
      "output shape: (14287, 32)\n",
      "subject: iguted_expert1\n",
      "initial shape: (13125, 640, 1)\n",
      "\u001b[1m411/411\u001b[0m \u001b[32m━━━━━━━━━━━━━━━━━━━━\u001b[0m\u001b[37m\u001b[0m \u001b[1m16s\u001b[0m 40ms/step\n",
      "output shape: (13125, 32)\n"
     ]
    }
   ],
   "source": [
    "for index, test_subject_name in enumerate(test_subjects_names):\n",
    "    # use last lstm layer of tested side task model to predict\n",
    "    # output that will be used as features given the original signals \n",
    "    print(f'subject: {test_subject_name}')\n",
    "    print(f'initial shape: {test_subjects_signals[index].shape}')\n",
    "    test_subject_hof = lstm_fe_main.predict(test_subjects_signals[index])\n",
    "    print(f'output shape: {test_subject_hof.shape}')\n",
    "\n",
    "    # create columns with its length the same as the number of columns\n",
    "    # of the higher order features matrix \n",
    "    columns = [f'HOF_{i}' for i in range(1, test_subject_hof.shape[1] + 1)]\n",
    "    test_subject_hof_df = pd.DataFrame(test_subject_hof, columns=columns)\n",
    "\n",
    "    # save both lstm features and lstm labels\n",
    "    test_subject_hof_df.to_csv(f'./data/Hybrid Artifact Detection Data/test/{test_subject_name}_hof.csv')"
   ]
  },
  {
   "cell_type": "markdown",
   "metadata": {},
   "source": [
    "# this next section will implement low level feature engineering for hybrid lstm-svm model"
   ]
  },
  {
   "cell_type": "code",
   "execution_count": 111,
   "metadata": {},
   "outputs": [],
   "source": [
    "# train_files[:1]"
   ]
  },
  {
   "cell_type": "code",
   "execution_count": 112,
   "metadata": {},
   "outputs": [],
   "source": [
    "# train_hybrid_eda_data = concur_extract_features_from_all('./data/Electrodermal Activity artifact correction BEnchmark (EDABE)/Train/', train_files, arch=\"hybrid\")\n",
    "# train_hybrid_eda_data"
   ]
  },
  {
   "cell_type": "code",
   "execution_count": 113,
   "metadata": {},
   "outputs": [],
   "source": [
    "# # save each feature dataframe as a .csv file in the folder created earlier with the same names\n",
    "# for subject_name, (feature_segments, labels) in train_hybrid_eda_data:\n",
    "#     feature_segments.to_csv(f'./data/Hybrid Artifact Detection Data/train/{subject_name}_lof.csv')\n",
    "#     labels.to_csv(f'./data/Hybrid Artifact Detection Data/train/{subject_name}_labels.csv')"
   ]
  },
  {
   "cell_type": "code",
   "execution_count": 114,
   "metadata": {},
   "outputs": [],
   "source": [
    "# test_hybrid_eda_data = concur_extract_features_from_all('./data/Electrodermal Activity artifact correction BEnchmark (EDABE)/Test/', test_files, arch=\"hybrid\")\n",
    "# test_hybrid_eda_data"
   ]
  },
  {
   "cell_type": "code",
   "execution_count": 115,
   "metadata": {},
   "outputs": [],
   "source": [
    "# # save each feature dataframe as a .csv file in the folder created earlier with the same names\n",
    "# for subject_name, (feature_segments, labels) in test_hybrid_eda_data:\n",
    "#     feature_segments.to_csv(f'./data/Hybrid Artifact Detection Data/test/{subject_name}_lof.csv')\n",
    "#     labels.to_csv(f'./data/Hybrid Artifact Detection Data/test/{subject_name}_labels.csv')"
   ]
  },
  {
   "cell_type": "code",
   "execution_count": 116,
   "metadata": {
    "id": "8V62G-rmfRdX"
   },
   "outputs": [],
   "source": [
    "# # once notebook reaches end remove data to clear space\n",
    "# os.remove('./data/EDABE dataset.zip')\n",
    "# os.remove('./data/Electrodermal Activity artifact correction BEnchmark (EDABE)')"
   ]
  }
 ],
 "metadata": {
  "accelerator": "GPU",
  "colab": {
   "gpuType": "T4",
   "provenance": []
  },
  "kernelspec": {
   "display_name": "thesis-writing-1",
   "language": "python",
   "name": "python3"
  },
  "language_info": {
   "codemirror_mode": {
    "name": "ipython",
    "version": 3
   },
   "file_extension": ".py",
   "mimetype": "text/x-python",
   "name": "python",
   "nbconvert_exporter": "python",
   "pygments_lexer": "ipython3",
   "version": "3.12.3"
  }
 },
 "nbformat": 4,
 "nbformat_minor": 0
}
